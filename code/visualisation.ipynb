{
 "cells": [
  {
   "cell_type": "code",
   "execution_count": 58,
   "metadata": {},
   "outputs": [
    {
     "name": "stdout",
     "output_type": "stream",
     "text": [
      "psl\n"
     ]
    },
    {
     "ename": "IndexError",
     "evalue": "index -4 is out of bounds for axis 0 with size 3",
     "output_type": "error",
     "traceback": [
      "\u001b[0;31m---------------------------------------------------------------------------\u001b[0m",
      "\u001b[0;31mIndexError\u001b[0m                                Traceback (most recent call last)",
      "Cell \u001b[0;32mIn[58], line 44\u001b[0m\n\u001b[1;32m     42\u001b[0m omt1 \u001b[38;5;241m=\u001b[39m pd\u001b[38;5;241m.\u001b[39munique(df[\u001b[38;5;124m'\u001b[39m\u001b[38;5;124momt1\u001b[39m\u001b[38;5;124m'\u001b[39m])\n\u001b[1;32m     43\u001b[0m \u001b[38;5;28;01mfor\u001b[39;00m i \u001b[38;5;129;01min\u001b[39;00m \u001b[38;5;28mrange\u001b[39m(\u001b[38;5;241m-\u001b[39m\u001b[38;5;241m4\u001b[39m,\u001b[38;5;241m0\u001b[39m,\u001b[38;5;241m1\u001b[39m):\n\u001b[0;32m---> 44\u001b[0m     plot_vs_ky(df, var\u001b[38;5;241m=\u001b[39m\u001b[38;5;124m'\u001b[39m\u001b[38;5;124mgrowthrate\u001b[39m\u001b[38;5;124m'\u001b[39m, omt1\u001b[38;5;241m=\u001b[39m\u001b[43momt1\u001b[49m\u001b[43m[\u001b[49m\u001b[43mi\u001b[49m\u001b[43m]\u001b[49m)\n",
      "\u001b[0;31mIndexError\u001b[0m: index -4 is out of bounds for axis 0 with size 3"
     ]
    }
   ],
   "source": [
    "# from main import *\n",
    "import matplotlib.pyplot as plt\n",
    "import numpy as np\n",
    "import pandas as pd\n",
    "from pathlib import Path\n",
    "import yaml\n",
    "import argparse\n",
    "\n",
    "def load_configuration(config_path):\n",
    "    with open(config_path, 'r') as file:\n",
    "        config = yaml.safe_load(file)\n",
    "        config = argparse.Namespace(**config)\n",
    "    return config\n",
    "\n",
    "def parse_scan_log():\n",
    "    config_path = Path('/users/danieljordan/GENE_UncertaintyQuantification_NeuralNetworkSurrogate/code/config.yaml')\n",
    "    config = load_configuration(config_path)\n",
    "    scan_log_path = Path(config.diagdir, 'scan.log')\n",
    "    growthrate = []\n",
    "    frequency = []\n",
    "    df = pd.read_csv(scan_log_path, sep='|',skiprows=1, names=['Run','omt2','omt1','kymin','Eiganvalues'])\n",
    "    for i in range(len(df)):\n",
    "        split = df['Eiganvalues'][i].lstrip().rstrip().split(' ')      \n",
    "        growthrate.append(split[0])\n",
    "        frequency.append(split[-1])\n",
    "    df['growthrate'] = growthrate\n",
    "    df['frequency'] = frequency\n",
    "    df = df.drop(columns=['Run','Eiganvalues'])\n",
    "    print('psl')\n",
    "    return df\n",
    "\n",
    "def plot_vs_ky(df, var='growthrate', omt1=2.096616, omt2=4.040331):\n",
    "    mask = np.array(df['omt1']==omt1) * np.array(df['omt2']==omt2)\n",
    "    var_df = df[var][mask]\n",
    "    kymin_df = df['kymin'][mask]\n",
    "    plt.scatter(kymin_df,var_df)\n",
    "    plt.xlabel(r'$k_y$')\n",
    "    plt.ylabel(var)\n",
    "    plt.show()\n",
    "\n",
    "df = parse_scan_log()\n",
    "omt1 = pd.unique(df['omt1'])\n",
    "for i in range():\n",
    "    plot_vs_ky(df, var='growthrate', omt1=omt1[i])\n"
   ]
  },
  {
   "cell_type": "code",
   "execution_count": 27,
   "metadata": {},
   "outputs": [],
   "source": [
    "import matplotlib.pyplot as plt\n",
    "import numpy as np\n",
    "import pandas as pd\n",
    "from pathlib import Path\n",
    "import yaml\n",
    "import argparse\n",
    "\n",
    "def load_configuration(config_path):\n",
    "    with open(config_path, 'r') as file:\n",
    "        config = yaml.safe_load(file)\n",
    "        config = argparse.Namespace(**config)\n",
    "    return config\n",
    "\n",
    "def parse_scan_log():\n",
    "    config_path = Path('/users/danieljordan/GENE_UncertaintyQuantification_NeuralNetworkSurrogate/code/config.yaml')\n",
    "    config = load_configuration(config_path)\n",
    "    scan_log_path = Path(config.diagdir, 'scan.log')\n",
    "    df = pd.read_csv(scan_log_path, sep='|')\n",
    "    print('psl')\n",
    "    return df\n",
    "\n"
   ]
  },
  {
   "cell_type": "code",
   "execution_count": 23,
   "metadata": {},
   "outputs": [
    {
     "data": {
      "text/plain": [
       "Index(['#Run  | omt       2  | omt       1  | kymin     1  /Eigenvalue1            '], dtype='object')"
      ]
     },
     "execution_count": 23,
     "metadata": {},
     "output_type": "execute_result"
    }
   ],
   "source": [
    "df.columns"
   ]
  },
  {
   "cell_type": "code",
   "execution_count": null,
   "metadata": {},
   "outputs": [],
   "source": []
  }
 ],
 "metadata": {
  "kernelspec": {
   "display_name": "conda_container_env",
   "language": "python",
   "name": "python3"
  },
  "language_info": {
   "codemirror_mode": {
    "name": "ipython",
    "version": 3
   },
   "file_extension": ".py",
   "mimetype": "text/x-python",
   "name": "python",
   "nbconvert_exporter": "python",
   "pygments_lexer": "ipython3",
   "version": "3.11.8"
  }
 },
 "nbformat": 4,
 "nbformat_minor": 2
}
